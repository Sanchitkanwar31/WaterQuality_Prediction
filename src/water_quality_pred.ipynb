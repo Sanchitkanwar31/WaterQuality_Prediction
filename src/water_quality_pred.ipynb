{
 "cells": [
  {
   "cell_type": "code",
   "execution_count": 8,
   "id": "e44b60b8",
   "metadata": {},
   "outputs": [],
   "source": [
    "import pandas as pd\n",
    "import numpy as np\n",
    "from sklearn.model_selection import train_test_split\n",
    "from sklearn.ensemble import RandomForestRegressor\n",
    "from sklearn.multioutput import MultiOutputRegressor\n",
    "from sklearn.model_selection import train_test_split\n",
    "import sys"
   ]
  },
  {
   "cell_type": "code",
   "execution_count": null,
   "id": "2fc65808",
   "metadata": {},
   "outputs": [
    {
     "name": "stdout",
     "output_type": "stream",
     "text": [
      "<class 'pandas.core.frame.DataFrame'>\n",
      "RangeIndex: 2861 entries, 0 to 2860\n",
      "Data columns (total 11 columns):\n",
      " #   Column     Non-Null Count  Dtype  \n",
      "---  ------     --------------  -----  \n",
      " 0   id         2861 non-null   int64  \n",
      " 1   date       2861 non-null   object \n",
      " 2   NH4        2858 non-null   float64\n",
      " 3   BSK5       2860 non-null   float64\n",
      " 4   Suspended  2845 non-null   float64\n",
      " 5   O2         2858 non-null   float64\n",
      " 6   NO3        2860 non-null   float64\n",
      " 7   NO2        2858 non-null   float64\n",
      " 8   SO4        2812 non-null   float64\n",
      " 9   PO4        2833 non-null   float64\n",
      " 10  CL         2812 non-null   float64\n",
      "dtypes: float64(9), int64(1), object(1)\n",
      "memory usage: 246.0+ KB\n"
     ]
    }
   ],
   "source": [
    "#READ DATASET\n",
    "df=pd.read_csv('water_dataset.csv',sep=';')\n",
    "df\n",
    "df.info()"
   ]
  },
  {
   "cell_type": "code",
   "execution_count": 15,
   "id": "2e09c3a4",
   "metadata": {},
   "outputs": [
    {
     "data": {
      "text/html": [
       "<div>\n",
       "<style scoped>\n",
       "    .dataframe tbody tr th:only-of-type {\n",
       "        vertical-align: middle;\n",
       "    }\n",
       "\n",
       "    .dataframe tbody tr th {\n",
       "        vertical-align: top;\n",
       "    }\n",
       "\n",
       "    .dataframe thead th {\n",
       "        text-align: right;\n",
       "    }\n",
       "</style>\n",
       "<table border=\"1\" class=\"dataframe\">\n",
       "  <thead>\n",
       "    <tr style=\"text-align: right;\">\n",
       "      <th></th>\n",
       "      <th>id</th>\n",
       "      <th>date</th>\n",
       "      <th>NH4</th>\n",
       "      <th>BSK5</th>\n",
       "      <th>Suspended</th>\n",
       "      <th>O2</th>\n",
       "      <th>NO3</th>\n",
       "      <th>NO2</th>\n",
       "      <th>SO4</th>\n",
       "      <th>PO4</th>\n",
       "      <th>CL</th>\n",
       "    </tr>\n",
       "  </thead>\n",
       "  <tbody>\n",
       "    <tr>\n",
       "      <th>0</th>\n",
       "      <td>1</td>\n",
       "      <td>17.02.2000</td>\n",
       "      <td>0.330</td>\n",
       "      <td>2.77</td>\n",
       "      <td>12.0</td>\n",
       "      <td>12.30</td>\n",
       "      <td>9.50</td>\n",
       "      <td>0.057</td>\n",
       "      <td>154.0</td>\n",
       "      <td>0.454</td>\n",
       "      <td>289.5</td>\n",
       "    </tr>\n",
       "    <tr>\n",
       "      <th>1</th>\n",
       "      <td>1</td>\n",
       "      <td>11.05.2000</td>\n",
       "      <td>0.044</td>\n",
       "      <td>3.00</td>\n",
       "      <td>51.6</td>\n",
       "      <td>14.61</td>\n",
       "      <td>17.75</td>\n",
       "      <td>0.034</td>\n",
       "      <td>352.0</td>\n",
       "      <td>0.090</td>\n",
       "      <td>1792.0</td>\n",
       "    </tr>\n",
       "    <tr>\n",
       "      <th>2</th>\n",
       "      <td>1</td>\n",
       "      <td>11.09.2000</td>\n",
       "      <td>0.032</td>\n",
       "      <td>2.10</td>\n",
       "      <td>24.5</td>\n",
       "      <td>9.87</td>\n",
       "      <td>13.80</td>\n",
       "      <td>0.173</td>\n",
       "      <td>416.0</td>\n",
       "      <td>0.200</td>\n",
       "      <td>2509.0</td>\n",
       "    </tr>\n",
       "    <tr>\n",
       "      <th>3</th>\n",
       "      <td>1</td>\n",
       "      <td>13.12.2000</td>\n",
       "      <td>0.170</td>\n",
       "      <td>2.23</td>\n",
       "      <td>35.6</td>\n",
       "      <td>12.40</td>\n",
       "      <td>17.13</td>\n",
       "      <td>0.099</td>\n",
       "      <td>275.2</td>\n",
       "      <td>0.377</td>\n",
       "      <td>1264.0</td>\n",
       "    </tr>\n",
       "    <tr>\n",
       "      <th>4</th>\n",
       "      <td>1</td>\n",
       "      <td>02.03.2001</td>\n",
       "      <td>0.000</td>\n",
       "      <td>3.03</td>\n",
       "      <td>48.8</td>\n",
       "      <td>14.69</td>\n",
       "      <td>10.00</td>\n",
       "      <td>0.065</td>\n",
       "      <td>281.6</td>\n",
       "      <td>0.134</td>\n",
       "      <td>1462.0</td>\n",
       "    </tr>\n",
       "  </tbody>\n",
       "</table>\n",
       "</div>"
      ],
      "text/plain": [
       "   id        date    NH4  BSK5  Suspended  ...    NO3    NO2    SO4    PO4      CL\n",
       "0   1  17.02.2000  0.330  2.77       12.0  ...   9.50  0.057  154.0  0.454   289.5\n",
       "1   1  11.05.2000  0.044  3.00       51.6  ...  17.75  0.034  352.0  0.090  1792.0\n",
       "2   1  11.09.2000  0.032  2.10       24.5  ...  13.80  0.173  416.0  0.200  2509.0\n",
       "3   1  13.12.2000  0.170  2.23       35.6  ...  17.13  0.099  275.2  0.377  1264.0\n",
       "4   1  02.03.2001  0.000  3.03       48.8  ...  10.00  0.065  281.6  0.134  1462.0\n",
       "\n",
       "[5 rows x 11 columns]"
      ]
     },
     "execution_count": 15,
     "metadata": {},
     "output_type": "execute_result"
    }
   ],
   "source": [
    "#STASTICS\n",
    "# df.describe()\n",
    "# df.isnull().sum()\n",
    "#correctling date..\n",
    "df.sort_values(by=['date'])\n",
    "df.head()"
   ]
  },
  {
   "cell_type": "code",
   "execution_count": null,
   "id": "a76d76d7",
   "metadata": {},
   "outputs": [
    {
     "data": {
      "text/plain": [
       "Index(['id', 'date', 'NH4', 'BSK5', 'Suspended', 'O2', 'NO3', 'NO2', 'SO4',\n",
       "       'PO4', 'CL'],\n",
       "      dtype='object')"
      ]
     },
     "execution_count": 18,
     "metadata": {},
     "output_type": "execute_result"
    }
   ],
   "source": [
    "df.columns\n",
    "pollutants =['NH4', 'BSK5', 'Suspended', 'O2', 'NO3', 'NO2', 'SO4',\n",
    "       'PO4', 'CL']"
   ]
  }
 ],
 "metadata": {
  "kernelspec": {
   "display_name": "Python 3",
   "language": "python",
   "name": "python3"
  },
  "language_info": {
   "codemirror_mode": {
    "name": "ipython",
    "version": 3
   },
   "file_extension": ".py",
   "mimetype": "text/x-python",
   "name": "python",
   "nbconvert_exporter": "python",
   "pygments_lexer": "ipython3",
   "version": "3.13.2"
  }
 },
 "nbformat": 4,
 "nbformat_minor": 5
}
